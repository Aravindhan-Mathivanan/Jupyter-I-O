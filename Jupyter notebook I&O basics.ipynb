{
 "cells": [
  {
   "cell_type": "markdown",
   "id": "c74bba50",
   "metadata": {},
   "source": [
    "Jupyter Notebook I/O basics"
   ]
  },
  {
   "cell_type": "markdown",
   "id": "39d14185",
   "metadata": {},
   "source": [
    "To create a text file in jupyter notebook\n",
    "syntax: %%writefile filename.txt\n",
    "\n",
    "the %%writefilename command is unque to Jupyter notebook."
   ]
  },
  {
   "cell_type": "code",
   "execution_count": 2,
   "id": "66152b21",
   "metadata": {},
   "outputs": [
    {
     "name": "stdout",
     "output_type": "stream",
     "text": [
      "Overwriting myfile.txt\n"
     ]
    }
   ],
   "source": [
    "%%writefile myfile.txt\n",
    "Uchiha Itachi\n",
    "Namikaze Minato\n",
    "Senju Hashirama"
   ]
  },
  {
   "cell_type": "markdown",
   "id": "d296b92e",
   "metadata": {},
   "source": [
    "pwd command is used to know the location of current notebook"
   ]
  },
  {
   "cell_type": "code",
   "execution_count": 3,
   "id": "a372a334",
   "metadata": {},
   "outputs": [
    {
     "data": {
      "text/plain": [
       "'C:\\\\Users\\\\Aravindhan\\\\Hebi'"
      ]
     },
     "execution_count": 3,
     "metadata": {},
     "output_type": "execute_result"
    }
   ],
   "source": [
    "pwd"
   ]
  },
  {
   "cell_type": "markdown",
   "id": "411f6a30",
   "metadata": {},
   "source": [
    "myfile = open(filename.txt)\n",
    "\n",
    "This syntax is used to open '.txt' files so that I can read or rewrite the file\n",
    "\n",
    "If there is \"File not found error\" when running this command there are only two possibilities\n",
    "1. The name of the file is wriiten incorrect\n",
    "2. The '.txt' file is not in the same location as the notebook"
   ]
  },
  {
   "cell_type": "code",
   "execution_count": 4,
   "id": "2d47d8f7",
   "metadata": {},
   "outputs": [],
   "source": [
    "myfile = open('myfile.txt')"
   ]
  },
  {
   "cell_type": "markdown",
   "id": "de688595",
   "metadata": {},
   "source": [
    "myfile.read()\n",
    "This command will display the text wriiten in the '.txt' file."
   ]
  },
  {
   "cell_type": "code",
   "execution_count": 5,
   "id": "f45b7e0a",
   "metadata": {},
   "outputs": [
    {
     "data": {
      "text/plain": [
       "'Uchiha Itachi\\nNamikaze Minato\\nSenju Hashirama\\n'"
      ]
     },
     "execution_count": 5,
     "metadata": {},
     "output_type": "execute_result"
    }
   ],
   "source": [
    "myfile.read()"
   ]
  },
  {
   "cell_type": "markdown",
   "id": "91f2a111",
   "metadata": {},
   "source": [
    "Once the file is read, it can't be read again. It'll just show single quotes - ''\n",
    "\n",
    "Imagine there is a cursor at the beginning of the text file, when you read it once it comes all way through to the end of the file. If you want to read it again, use the command\n",
    "\n",
    "myfile.seek(0)\n",
    "\n",
    "So that cursor will be re-aligned to the beginning of the file. You have to do this again and again whenever you want to read the file again."
   ]
  },
  {
   "cell_type": "code",
   "execution_count": 6,
   "id": "2afce809",
   "metadata": {},
   "outputs": [
    {
     "data": {
      "text/plain": [
       "''"
      ]
     },
     "execution_count": 6,
     "metadata": {},
     "output_type": "execute_result"
    }
   ],
   "source": [
    "myfile.read()"
   ]
  },
  {
   "cell_type": "code",
   "execution_count": 7,
   "id": "9d74f928",
   "metadata": {},
   "outputs": [
    {
     "data": {
      "text/plain": [
       "0"
      ]
     },
     "execution_count": 7,
     "metadata": {},
     "output_type": "execute_result"
    }
   ],
   "source": [
    "myfile.seek(0)"
   ]
  },
  {
   "cell_type": "markdown",
   "id": "d3ea7b1d",
   "metadata": {},
   "source": [
    "myfile.readlines()\n",
    "\n",
    "This command make each lines in the text file into a list with each line as an object\n",
    "\n",
    "But still there will be a new line character (\\n) at the end of each objects."
   ]
  },
  {
   "cell_type": "code",
   "execution_count": 8,
   "id": "00771c24",
   "metadata": {},
   "outputs": [
    {
     "data": {
      "text/plain": [
       "['Uchiha Itachi\\n', 'Namikaze Minato\\n', 'Senju Hashirama\\n']"
      ]
     },
     "execution_count": 8,
     "metadata": {},
     "output_type": "execute_result"
    }
   ],
   "source": [
    "myfile.readlines()"
   ]
  },
  {
   "cell_type": "markdown",
   "id": "b86a4540",
   "metadata": {},
   "source": [
    "File Locations\n",
    "\n",
    "To open a file which is present in a different folder, simply pass the directory with two back slashes.\n",
    "\n",
    "Eg:\n",
    "\n",
    "myfile = open(\"C:\\\\Users\\\\YourUserName\\\\Home\\\\Folder\\\\myfile.txt\")\n",
    "\n",
    "*remeber to use two back slashes"
   ]
  },
  {
   "cell_type": "code",
   "execution_count": 10,
   "id": "224c84b0",
   "metadata": {},
   "outputs": [],
   "source": [
    "myfile.close()"
   ]
  },
  {
   "cell_type": "code",
   "execution_count": null,
   "id": "304ec0e4",
   "metadata": {},
   "outputs": [],
   "source": []
  }
 ],
 "metadata": {
  "kernelspec": {
   "display_name": "Python 3 (ipykernel)",
   "language": "python",
   "name": "python3"
  },
  "language_info": {
   "codemirror_mode": {
    "name": "ipython",
    "version": 3
   },
   "file_extension": ".py",
   "mimetype": "text/x-python",
   "name": "python",
   "nbconvert_exporter": "python",
   "pygments_lexer": "ipython3",
   "version": "3.9.13"
  }
 },
 "nbformat": 4,
 "nbformat_minor": 5
}
